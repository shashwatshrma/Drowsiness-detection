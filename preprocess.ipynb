{
 "cells": [
  {
   "cell_type": "markdown",
   "id": "fbaf2f74-3072-4d15-8333-72876e2e9899",
   "metadata": {},
   "source": [
    "## Seperating the open and closed eyes in the dataset\n",
    "The images in the dataset are named such that the number after the 4th underscore depicts whether the eye in the image is closed(depicted by 0) or open(depicted by 1). "
   ]
  },
  {
   "cell_type": "code",
   "execution_count": 1,
   "id": "002cd6cf-2584-42a8-b59f-40e45e0e3a8f",
   "metadata": {},
   "outputs": [],
   "source": [
    "import os\n",
    "import shutil\n",
    "\n",
    "os.makedirs('./prepared_data/closed_eyes/', exist_ok=True)\n",
    "os.makedirs('./prepared_data/open_eyes/', exist_ok=True)"
   ]
  },
  {
   "cell_type": "code",
   "execution_count": null,
   "id": "97d758f1-7272-4467-8ade-f03bb3778bf5",
   "metadata": {},
   "outputs": [],
   "source": [
    "dir = './mrlEyes_2018_01/'\n",
    "for dirpath, dirname, filename in os.walk(dir):\n",
    "    for i  in [ f for f in filename if f.endswith('.png') ]:\n",
    "        if i.split('_')[4] == '0':\n",
    "            shutil.copy(src = dirpath+'/'+i, dst = './prepared_data/closed_eyes/')\n",
    "        elif i.split('_')[4] == '1':\n",
    "            shutil.copy(src = dirpath+'/'+i, dst = './prepared_data/open_eyes/')"
   ]
  },
  {
   "cell_type": "code",
   "execution_count": null,
   "id": "dc55fb1f-63b2-4ede-a306-b7cda74ca024",
   "metadata": {},
   "outputs": [],
   "source": [
    "os.listdir('./prepared_data/closed_eyes')"
   ]
  },
  {
   "cell_type": "markdown",
   "id": "be36d071-498c-4c00-80e7-0a4776a5feba",
   "metadata": {},
   "source": [
    "## Preparing the data\n",
    "We have seperated open and closed eyes from the different dirctories in the dataset into 2 directories. Now, seeing that each directory have nearly 40k images each, we perform a standard roughly 80/20 train test split in a fashion that ImageDataGenerator can work with our dataset. We further divide the train dataset into train and validation subsets."
   ]
  },
  {
   "cell_type": "code",
   "execution_count": null,
   "id": "d4a24bdc-7999-4a6d-b940-c1fcc933962b",
   "metadata": {},
   "outputs": [],
   "source": [
    "os.makedirs('./prepared_data/train_data/train/closed_eyes/', exist_ok=True)\n",
    "os.makedirs('./prepared_data/train_data/train/open_eyes/', exist_ok=True)\n",
    "os.makedirs('./prepared_data/test_data/closed_eyes/', exist_ok=True)\n",
    "os.makedirs('./prepared_data/test_data/open_eyes/', exist_ok=True)"
   ]
  },
  {
   "cell_type": "code",
   "execution_count": null,
   "id": "29a5112e-6590-40b4-a30b-483760ff0c0a",
   "metadata": {},
   "outputs": [],
   "source": [
    "import random"
   ]
  },
  {
   "cell_type": "code",
   "execution_count": null,
   "id": "fa1c24e5-65ac-45cf-a264-5dc40c833a6f",
   "metadata": {},
   "outputs": [],
   "source": [
    "n = round(40000 * 0.8)\n",
    "dir = './prepared_data/closed_eyes'\n",
    "files = os.listdir(dir)\n",
    "random.shuffle(files)\n",
    "files = files[0:n] # we take roughly 80% of the images\n",
    "for file in train_files:\n",
    "    shutil.move(src = dir+'/'+file, dst = './prepared_data/train_data/closed_eyes/')"
   ]
  },
  {
   "cell_type": "code",
   "execution_count": null,
   "id": "7b2d35d0-5655-454f-838b-5675e5d8fa61",
   "metadata": {},
   "outputs": [],
   "source": [
    "dir = './prepared_data/open_eyes'\n",
    "files = os.listdir(dir)\n",
    "random.shuffle(files)\n",
    "files = files[0:n] # we take roughly 80% of the images\n",
    "for file in files:\n",
    "    shutil.move(src = dir+'/'+file, dst = './prepared_data/train_data/open_eyes/')"
   ]
  },
  {
   "cell_type": "code",
   "execution_count": null,
   "id": "528b8b57-67a1-416b-9a1e-40dea244c032",
   "metadata": {},
   "outputs": [],
   "source": [
    "dir = './prepared_data/closed_eyes'\n",
    "files = os.listdir(dir)\n",
    "for file in files:\n",
    "    shutil.move(src = dir+'/'+file, dst = './prepared_data/test_data/closed_eyes/')\n",
    "dir = './prepared_data/open_eyes'\n",
    "files = os.listdir(dir)\n",
    "for file in files:\n",
    "    shutil.move(src = dir+'/'+file, dst = './prepared_data/test_data/open_eyes/')"
   ]
  }
 ],
 "metadata": {
  "kernelspec": {
   "display_name": "Python 3 (ipykernel)",
   "language": "python",
   "name": "python3"
  },
  "language_info": {
   "codemirror_mode": {
    "name": "ipython",
    "version": 3
   },
   "file_extension": ".py",
   "mimetype": "text/x-python",
   "name": "python",
   "nbconvert_exporter": "python",
   "pygments_lexer": "ipython3",
   "version": "3.11.2"
  }
 },
 "nbformat": 4,
 "nbformat_minor": 5
}
